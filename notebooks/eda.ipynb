{
 "cells": [
  {
   "cell_type": "markdown",
   "id": "0baeb8ff",
   "metadata": {},
   "source": [
    "# EDA: Ads data"
   ]
  },
  {
   "cell_type": "code",
   "execution_count": 35,
   "id": "715711d4",
   "metadata": {},
   "outputs": [],
   "source": [
    "import pandas as pd\n",
    "import matplotlib.pyplot as plt\n",
    "import seaborn as sns\n",
    "import joblib\n",
    "\n",
    "from sklearn.model_selection import train_test_split\n",
    "from sklearn.pipeline import Pipeline\n",
    "from sklearn.compose import ColumnTransformer\n",
    "from sklearn.preprocessing import OneHotEncoder, StandardScaler\n",
    "from sklearn.ensemble import RandomForestClassifier\n",
    "from sklearn.metrics import classification_report, confusion_matrix\n",
    "\n"
   ]
  },
  {
   "cell_type": "code",
   "execution_count": 2,
   "id": "ebc708c8",
   "metadata": {},
   "outputs": [
    {
     "data": {
      "application/vnd.microsoft.datawrangler.viewer.v0+json": {
       "columns": [
        {
         "name": "index",
         "rawType": "int64",
         "type": "integer"
        },
        {
         "name": "user_id",
         "rawType": "object",
         "type": "string"
        },
        {
         "name": "timestamp",
         "rawType": "object",
         "type": "string"
        },
        {
         "name": "device_type",
         "rawType": "object",
         "type": "string"
        },
        {
         "name": "ad_id",
         "rawType": "object",
         "type": "string"
        },
        {
         "name": "campaign_id",
         "rawType": "object",
         "type": "string"
        },
        {
         "name": "site_id",
         "rawType": "object",
         "type": "string"
        },
        {
         "name": "ad_category",
         "rawType": "object",
         "type": "string"
        },
        {
         "name": "clicked",
         "rawType": "int64",
         "type": "integer"
        }
       ],
       "ref": "4c5ee6ab-a24d-4a4a-9a14-b362cb8283ee",
       "rows": [
        [
         "0",
         "user_1825",
         "2025-01-02 05:08:22",
         "tablet",
         "ad_032",
         "camp_04",
         "site_05",
         "tech",
         "0"
        ],
        [
         "1",
         "user_8936",
         "2025-01-05 05:17:27",
         "mobile",
         "ad_005",
         "camp_01",
         "site_03",
         "fashion",
         "1"
        ],
        [
         "2",
         "user_3812",
         "2025-01-25 12:46:53",
         "tablet",
         "ad_072",
         "camp_04",
         "site_18",
         "finance",
         "0"
        ],
        [
         "3",
         "user_3612",
         "2025-01-22 19:21:59",
         "mobile",
         "ad_001",
         "camp_03",
         "site_14",
         "sports",
         "0"
        ],
        [
         "4",
         "user_4553",
         "2025-01-08 13:08:48",
         "mobile",
         "ad_098",
         "camp_06",
         "site_04",
         "tech",
         "0"
        ]
       ],
       "shape": {
        "columns": 8,
        "rows": 5
       }
      },
      "text/html": [
       "<div>\n",
       "<style scoped>\n",
       "    .dataframe tbody tr th:only-of-type {\n",
       "        vertical-align: middle;\n",
       "    }\n",
       "\n",
       "    .dataframe tbody tr th {\n",
       "        vertical-align: top;\n",
       "    }\n",
       "\n",
       "    .dataframe thead th {\n",
       "        text-align: right;\n",
       "    }\n",
       "</style>\n",
       "<table border=\"1\" class=\"dataframe\">\n",
       "  <thead>\n",
       "    <tr style=\"text-align: right;\">\n",
       "      <th></th>\n",
       "      <th>user_id</th>\n",
       "      <th>timestamp</th>\n",
       "      <th>device_type</th>\n",
       "      <th>ad_id</th>\n",
       "      <th>campaign_id</th>\n",
       "      <th>site_id</th>\n",
       "      <th>ad_category</th>\n",
       "      <th>clicked</th>\n",
       "    </tr>\n",
       "  </thead>\n",
       "  <tbody>\n",
       "    <tr>\n",
       "      <th>0</th>\n",
       "      <td>user_1825</td>\n",
       "      <td>2025-01-02 05:08:22</td>\n",
       "      <td>tablet</td>\n",
       "      <td>ad_032</td>\n",
       "      <td>camp_04</td>\n",
       "      <td>site_05</td>\n",
       "      <td>tech</td>\n",
       "      <td>0</td>\n",
       "    </tr>\n",
       "    <tr>\n",
       "      <th>1</th>\n",
       "      <td>user_8936</td>\n",
       "      <td>2025-01-05 05:17:27</td>\n",
       "      <td>mobile</td>\n",
       "      <td>ad_005</td>\n",
       "      <td>camp_01</td>\n",
       "      <td>site_03</td>\n",
       "      <td>fashion</td>\n",
       "      <td>1</td>\n",
       "    </tr>\n",
       "    <tr>\n",
       "      <th>2</th>\n",
       "      <td>user_3812</td>\n",
       "      <td>2025-01-25 12:46:53</td>\n",
       "      <td>tablet</td>\n",
       "      <td>ad_072</td>\n",
       "      <td>camp_04</td>\n",
       "      <td>site_18</td>\n",
       "      <td>finance</td>\n",
       "      <td>0</td>\n",
       "    </tr>\n",
       "    <tr>\n",
       "      <th>3</th>\n",
       "      <td>user_3612</td>\n",
       "      <td>2025-01-22 19:21:59</td>\n",
       "      <td>mobile</td>\n",
       "      <td>ad_001</td>\n",
       "      <td>camp_03</td>\n",
       "      <td>site_14</td>\n",
       "      <td>sports</td>\n",
       "      <td>0</td>\n",
       "    </tr>\n",
       "    <tr>\n",
       "      <th>4</th>\n",
       "      <td>user_4553</td>\n",
       "      <td>2025-01-08 13:08:48</td>\n",
       "      <td>mobile</td>\n",
       "      <td>ad_098</td>\n",
       "      <td>camp_06</td>\n",
       "      <td>site_04</td>\n",
       "      <td>tech</td>\n",
       "      <td>0</td>\n",
       "    </tr>\n",
       "  </tbody>\n",
       "</table>\n",
       "</div>"
      ],
      "text/plain": [
       "     user_id            timestamp device_type   ad_id campaign_id  site_id  \\\n",
       "0  user_1825  2025-01-02 05:08:22      tablet  ad_032     camp_04  site_05   \n",
       "1  user_8936  2025-01-05 05:17:27      mobile  ad_005     camp_01  site_03   \n",
       "2  user_3812  2025-01-25 12:46:53      tablet  ad_072     camp_04  site_18   \n",
       "3  user_3612  2025-01-22 19:21:59      mobile  ad_001     camp_03  site_14   \n",
       "4  user_4553  2025-01-08 13:08:48      mobile  ad_098     camp_06  site_04   \n",
       "\n",
       "  ad_category  clicked  \n",
       "0        tech        0  \n",
       "1     fashion        1  \n",
       "2     finance        0  \n",
       "3      sports        0  \n",
       "4        tech        0  "
      ]
     },
     "execution_count": 2,
     "metadata": {},
     "output_type": "execute_result"
    }
   ],
   "source": [
    "# Load the synthetic ad data\n",
    "df = pd.read_csv(\"../data/ads_data.csv\")\n",
    "# Quick look at the data\n",
    "df.head()"
   ]
  },
  {
   "cell_type": "code",
   "execution_count": 3,
   "id": "2fa1af8b",
   "metadata": {},
   "outputs": [
    {
     "data": {
      "application/vnd.microsoft.datawrangler.viewer.v0+json": {
       "columns": [
        {
         "name": "clicked",
         "rawType": "int64",
         "type": "integer"
        },
        {
         "name": "proportion",
         "rawType": "float64",
         "type": "float"
        }
       ],
       "ref": "cd4a70b7-e421-4ba6-a9ea-dbdde4c5b07f",
       "rows": [
        [
         "0",
         "0.9506333333333333"
        ],
        [
         "1",
         "0.04936666666666667"
        ]
       ],
       "shape": {
        "columns": 1,
        "rows": 2
       }
      },
      "text/plain": [
       "clicked\n",
       "0    0.950633\n",
       "1    0.049367\n",
       "Name: proportion, dtype: float64"
      ]
     },
     "execution_count": 3,
     "metadata": {},
     "output_type": "execute_result"
    }
   ],
   "source": [
    "# Check the class distirbution/balance\n",
    "df['clicked'].value_counts(normalize=True)"
   ]
  },
  {
   "cell_type": "code",
   "execution_count": 4,
   "id": "05be5e3a",
   "metadata": {},
   "outputs": [
    {
     "data": {
      "application/vnd.microsoft.datawrangler.viewer.v0+json": {
       "columns": [
        {
         "name": "index",
         "rawType": "object",
         "type": "string"
        },
        {
         "name": "0",
         "rawType": "int64",
         "type": "integer"
        }
       ],
       "ref": "eedf3e89-a879-4ce8-b018-78b3070c98dc",
       "rows": [
        [
         "user_id",
         "9967"
        ],
        [
         "timestamp",
         "59322"
        ],
        [
         "device_type",
         "3"
        ],
        [
         "ad_id",
         "100"
        ],
        [
         "campaign_id",
         "10"
        ],
        [
         "site_id",
         "20"
        ],
        [
         "ad_category",
         "5"
        ],
        [
         "clicked",
         "2"
        ]
       ],
       "shape": {
        "columns": 1,
        "rows": 8
       }
      },
      "text/plain": [
       "user_id         9967\n",
       "timestamp      59322\n",
       "device_type        3\n",
       "ad_id            100\n",
       "campaign_id       10\n",
       "site_id           20\n",
       "ad_category        5\n",
       "clicked            2\n",
       "dtype: int64"
      ]
     },
     "execution_count": 4,
     "metadata": {},
     "output_type": "execute_result"
    }
   ],
   "source": [
    "# Per column check number of unique values\n",
    "df.nunique()"
   ]
  },
  {
   "cell_type": "code",
   "execution_count": null,
   "id": "1d6edc83",
   "metadata": {},
   "outputs": [],
   "source": [
    "sns.countplot(data=df, x='clicked')\n",
    "plt.title(\"Click Distribution\")\n",
    "plt.show()"
   ]
  },
  {
   "cell_type": "code",
   "execution_count": 6,
   "id": "acc4c90a",
   "metadata": {},
   "outputs": [],
   "source": [
    "# Check the relation between categorical columns and the target\n",
    "# categorical_cols =df.select_dtypes(include='object').columns\n",
    "# categorical_cols = [col for col in categorical_cols if col != 'clicked']\n",
    "\n",
    "# for col in categorical_cols:\n",
    "#     click_rate = df.groupby(col)['clicked'].mean().sort_values(ascending=False)\n",
    "#     print(click_rate)\n",
    "\n",
    "#     plt.figure(figsize=(6,3))\n",
    "#     sns.barplot(x=click_rate.index, y=click_rate.values)\n",
    "#     plt.title(f\"Click-through Rate by {col}\")\n",
    "#     plt.ylabel(\"CTR\")\n",
    "#     plt.xticks(rotation=45)\n",
    "#     plt.tight_layout()\n",
    "#     plt.show()"
   ]
  },
  {
   "cell_type": "code",
   "execution_count": 11,
   "id": "3a4c7175",
   "metadata": {},
   "outputs": [],
   "source": [
    "# Create date time fetaures\n",
    "df['timestamp'] = pd.to_datetime(df['timestamp'])\n",
    "\n",
    "df['hour']=df['timestamp'].dt.hour\n",
    "df['day_of_week']=df['timestamp'].dt.day_of_week\n",
    "df['weekend']=df['day_of_week'].isin([5,6]).astype(int)\n",
    "\n",
    "# time of day\n",
    "def map_time_of_day(hour):\n",
    "    if 5 <=hour < 12:\n",
    "        return 'morning'\n",
    "    elif 12 <=hour<17:\n",
    "        return 'afternoon'\n",
    "    elif 17 <= hour < 21:\n",
    "        return 'evening'\n",
    "    else:\n",
    "        return 'night'\n",
    "\n",
    "df['time_of_day'] =df['hour'].apply(map_time_of_day)\n",
    "\n",
    "# Drop timestamp to avoid leakage\n",
    "df =df.drop(columns=['timestamp'])"
   ]
  },
  {
   "cell_type": "code",
   "execution_count": 29,
   "id": "ef04d96a",
   "metadata": {},
   "outputs": [],
   "source": [
    "# Define target and features\n",
    "X = df.drop(columns=['clicked'])\n",
    "y =df[['clicked']]\n",
    "\n",
    "# Identify column types\n",
    "categorical_colums = X.select_dtypes(include='object').columns.tolist()\n",
    "numeric_cols = ['hour', 'day_of_week', 'weekend']\n"
   ]
  },
  {
   "cell_type": "code",
   "execution_count": null,
   "id": "ba2b972a",
   "metadata": {},
   "outputs": [],
   "source": [
    "print(\"Numerical columns:\", numeric_cols)\n",
    "print(\"Categorical columns:\", categorical_colums)"
   ]
  },
  {
   "cell_type": "code",
   "execution_count": 31,
   "id": "41d24f4b",
   "metadata": {},
   "outputs": [],
   "source": [
    "# 3. --- Preprocessing ---\n",
    "preprocessor = ColumnTransformer(\n",
    "    transformers=[\n",
    "        ('num',StandardScaler(), numeric_cols),\n",
    "        ('cat', OneHotEncoder(handle_unknown='ignore'),categorical_colums),\n",
    "    ]\n",
    ")\n"
   ]
  },
  {
   "cell_type": "code",
   "execution_count": 32,
   "id": "00cc4b6c",
   "metadata": {},
   "outputs": [],
   "source": [
    "# 4. --- Train test split ---\n",
    "X_train, X_test, y_train, y_test = train_test_split(\n",
    "    X, y, test_size=0.2, random_state=32, stratify=y\n",
    ")"
   ]
  },
  {
   "cell_type": "code",
   "execution_count": 33,
   "id": "19aceef5",
   "metadata": {},
   "outputs": [],
   "source": [
    "# 5.--- Model pipeline ---\n",
    "model = Pipeline(steps=[\n",
    "    ('preprocessor', preprocessor),\n",
    "    ('classifier', RandomForestClassifier(n_estimators=100, random_state=32))\n",
    "    ]\n",
    ")"
   ]
  },
  {
   "cell_type": "code",
   "execution_count": 34,
   "id": "9c2382b1",
   "metadata": {},
   "outputs": [
    {
     "name": "stderr",
     "output_type": "stream",
     "text": [
      "<>:8: SyntaxWarning: invalid escape sequence '\\C'\n",
      "<>:8: SyntaxWarning: invalid escape sequence '\\C'\n",
      "/var/folders/ns/nkvcp7t90z7f80x37x9hy9x40000gn/T/ipykernel_32295/908763759.py:8: SyntaxWarning: invalid escape sequence '\\C'\n",
      "  print(\"n\\Classification Report:\")\n",
      "/Users/juanfe/Documents/Datascience/Projects/real-time-ad-bidding-pipeline/.venv-add-tech/lib/python3.12/site-packages/sklearn/base.py:1363: DataConversionWarning: A column-vector y was passed when a 1d array was expected. Please change the shape of y to (n_samples,), for example using ravel().\n",
      "  return fit_method(estimator, *args, **kwargs)\n"
     ]
    },
    {
     "name": "stdout",
     "output_type": "stream",
     "text": [
      "Confusion matrix\n",
      "[[11338    70]\n",
      " [  587     5]]\n",
      "n\\Classification Report:\n",
      "              precision    recall  f1-score   support\n",
      "\n",
      "           0       0.95      0.99      0.97     11408\n",
      "           1       0.07      0.01      0.01       592\n",
      "\n",
      "    accuracy                           0.95     12000\n",
      "   macro avg       0.51      0.50      0.49     12000\n",
      "weighted avg       0.91      0.95      0.92     12000\n",
      "\n"
     ]
    }
   ],
   "source": [
    "# 6. --- Train and evaluate ---\n",
    "model.fit(X_train, y_train)\n",
    "y_pred= model.predict(X_test)\n",
    "\n",
    "print(\"Confusion matrix\")\n",
    "print(confusion_matrix(y_test, y_pred))\n",
    "\n",
    "print(\"n\\Classification Report:\")\n",
    "print(classification_report(y_test, y_pred))"
   ]
  },
  {
   "cell_type": "code",
   "execution_count": 38,
   "id": "2990189a",
   "metadata": {},
   "outputs": [
    {
     "data": {
      "text/plain": [
       "Index(['user_id', 'device_type', 'ad_id', 'campaign_id', 'site_id',\n",
       "       'ad_category', 'hour', 'day_of_week', 'weekend', 'time_of_day'],\n",
       "      dtype='object')"
      ]
     },
     "execution_count": 38,
     "metadata": {},
     "output_type": "execute_result"
    }
   ],
   "source": [
    "X.columns"
   ]
  },
  {
   "cell_type": "code",
   "execution_count": 37,
   "id": "a6b4612b",
   "metadata": {},
   "outputs": [
    {
     "data": {
      "text/plain": [
       "['/Users/juanfe/Documents/Datascience/Projects/real-time-ad-bidding-pipeline/models/ad_click_pipeline.pkl']"
      ]
     },
     "execution_count": 37,
     "metadata": {},
     "output_type": "execute_result"
    }
   ],
   "source": [
    "# Serialize the model\n",
    "joblib.dump(model,'/Users/juanfe/Documents/Datascience/Projects/real-time-ad-bidding-pipeline/models/ad_click_pipeline.pkl')"
   ]
  }
 ],
 "metadata": {
  "kernelspec": {
   "display_name": ".venv-add-tech",
   "language": "python",
   "name": "python3"
  },
  "language_info": {
   "codemirror_mode": {
    "name": "ipython",
    "version": 3
   },
   "file_extension": ".py",
   "mimetype": "text/x-python",
   "name": "python",
   "nbconvert_exporter": "python",
   "pygments_lexer": "ipython3",
   "version": "3.12.5"
  }
 },
 "nbformat": 4,
 "nbformat_minor": 5
}
